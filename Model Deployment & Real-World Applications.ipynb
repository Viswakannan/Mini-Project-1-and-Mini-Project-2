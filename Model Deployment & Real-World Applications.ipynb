{
 "cells": [
  {
   "cell_type": "markdown",
   "id": "62c27094",
   "metadata": {},
   "source": [
    "## Day 74: Mini Project 1-> Movie Review Sentiment Analysis Deployment using Flask"
   ]
  },
  {
   "cell_type": "code",
   "execution_count": null,
   "id": "ee3ceae1",
   "metadata": {},
   "outputs": [],
   "source": [
    "import pandas as pd \n",
    "\n",
    "# Creating a simple dataset \n",
    "data = { \n",
    "            'review': [ \"This movie was fantastic! I loved it.\", \n",
    "                        \"Absolutely terrible. Waste of time.\", \n",
    "                        \"The plot was interesting and well-executed.\", \n",
    "                        \"Horrible acting and bad direction.\", \n",
    "                        \"Great cinematography and amazing soundtrack.\" ], \n",
    "            'sentiment': [1, 0, 1, 0, 1] # 1 = Positive, 0 = Negative \n",
    "        } \n",
    "df = pd.DataFrame(data)\n",
    "\n",
    "# Preprocess Data & Train the Model\n",
    "from sklearn.feature_extraction.text import TfidfVectorizer \n",
    "from sklearn.naive_bayes import MultinomialNB \n",
    "from sklearn.pipeline import Pipeline \n",
    "\n",
    "# Splitting input (X) and target (y) \n",
    "X = df['review'] \n",
    "y = df['sentiment'] \n",
    "\n",
    "# Create a pipeline with text vectorization and model \n",
    "pipeline = Pipeline([ ('tfidf', TfidfVectorizer()), # Convert text to numeric features \n",
    "                        ('model', MultinomialNB()) # Train Naive Bayes classifier \n",
    "                    ]) \n",
    "\n",
    "# Train the model \n",
    "pipeline.fit(X, y)\n",
    "\n",
    "# Save & Load the Model\n",
    "from joblib import dump, load \n",
    "\n",
    "# Save the trained model \n",
    "dump(pipeline, 'sentiment_model.joblib') \n",
    "\n",
    "# Load and test the model \n",
    "loaded_model = load('sentiment_model.joblib') \n",
    "print(loaded_model.predict([\"I hated this movie.\"])) # Output: [0] (Negative)\n",
    "\n"
   ]
  },
  {
   "cell_type": "markdown",
   "id": "6464acbb",
   "metadata": {},
   "source": [
    "## Day 74: Mini Project 2-> Loan Approval Prediction with FastAPI"
   ]
  },
  {
   "cell_type": "code",
   "execution_count": null,
   "id": "161a3edf",
   "metadata": {},
   "outputs": [],
   "source": [
    "import pandas as pd \n",
    "\n",
    "# Sample dataset \n",
    "data = { \n",
    "            'income': [30000, 50000, 70000, 90000, 110000], \n",
    "            'loan_amount': [5000, 10000, 15000, 20000, 25000], \n",
    "            'credit_score': [600, 650, 700, 750, 800], \n",
    "            'loan_approved': [0, 1, 1, 1, 1] # 1 = Approved, 0 = Rejected \n",
    "        } \n",
    "df = pd.DataFrame(data) \n",
    "\n",
    "# Splitting into features and target \n",
    "X = df.drop(columns=['loan_approved']) \n",
    "y = df['loan_approved']\n",
    "\n",
    "# Build a Machine Learning Pipeline\n",
    "from sklearn.pipeline import Pipeline \n",
    "from sklearn.preprocessing import StandardScaler \n",
    "from sklearn.ensemble import RandomForestClassifier \n",
    "from sklearn.model_selection import train_test_split \n",
    "\n",
    "# Split data into training and testing sets \n",
    "X_train, X_test, y_train, y_test = train_test_split(X, y, test_size=0.2, random_state=42)\n",
    "\n",
    "# Create an ML pipeline \n",
    "pipeline = Pipeline([ ('scaler', StandardScaler()), # Feature scaling \n",
    "                    ('model', RandomForestClassifier(n_estimators=100, random_state=42)) \n",
    "                    ]) \n",
    "# Train the pipeline \n",
    "pipeline.fit(X_train, y_train)\n",
    "\n",
    "# Save & Load the Model\n",
    "from joblib import dump, load \n",
    "\n",
    "# Save the pipeline \n",
    "dump(pipeline, 'loan_approval_model.joblib') \n",
    "\n",
    "# Load the pipeline \n",
    "loaded_pipeline = load('loan_approval_model.joblib') \n",
    "\n",
    "# Test prediction \n",
    "test_data = [[60000, 12000, 680]] # Example input \n",
    "loan_approval = loaded_pipeline.predict(test_data) \n",
    "print(f\"Loan Approval: {'Approved' if loan_approval[0] == 1 else 'Rejected'}\")\n"
   ]
  }
 ],
 "metadata": {
  "kernelspec": {
   "display_name": ".venv",
   "language": "python",
   "name": "python3"
  },
  "language_info": {
   "codemirror_mode": {
    "name": "ipython",
    "version": 3
   },
   "file_extension": ".py",
   "mimetype": "text/x-python",
   "name": "python",
   "nbconvert_exporter": "python",
   "pygments_lexer": "ipython3",
   "version": "3.13.5"
  }
 },
 "nbformat": 4,
 "nbformat_minor": 5
}
